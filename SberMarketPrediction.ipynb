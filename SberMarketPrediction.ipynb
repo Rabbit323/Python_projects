{
 "cells": [
  {
   "cell_type": "code",
   "execution_count": 1,
   "id": "fitted-mozambique",
   "metadata": {},
   "outputs": [],
   "source": [
    "import pandas as pd\n",
    "import numpy as np\n",
    "import matplotlib.pyplot as plt\n",
    "from sklearn.cluster import KMeans"
   ]
  },
  {
   "cell_type": "code",
   "execution_count": 29,
   "id": "ready-nothing",
   "metadata": {},
   "outputs": [],
   "source": [
    "from sklearn.svm import SVC\n",
    "from sklearn.multioutput import MultiOutputClassifier\n",
    "from sklearn.ensemble import GradientBoostingClassifier\n",
    "from sklearn.tree import DecisionTreeClassifier\n",
    "from sklearn.neighbors import KNeighborsClassifier\n",
    "from sklearn.naive_bayes import GaussianNB\n",
    "from sklearn.ensemble import RandomForestClassifier\n",
    "from sklearn.linear_model import LogisticRegression\n",
    "from sklearn.metrics import classification_report,confusion_matrix\n",
    "import xgboost as xgb\n",
    "from sklearn.model_selection import KFold, cross_val_score, train_test_split"
   ]
  },
  {
   "cell_type": "code",
   "execution_count": 3,
   "id": "focal-clearance",
   "metadata": {},
   "outputs": [],
   "source": [
    "df = pd.read_csv('train.csv')\n",
    "sub = pd.read_csv('sample_submission.csv')\n",
    "cuttoff_date = '2020-03-05'"
   ]
  },
  {
   "cell_type": "code",
   "execution_count": 4,
   "id": "editorial-strike",
   "metadata": {},
   "outputs": [],
   "source": [
    "df['id'] = df['user_id'].astype(str) + \";\" + df[\"cart\"].astype(str)\n",
    "df = df.drop(['user_id', 'cart'], axis=1)\n",
    "df['order_completed_at'] = pd.to_datetime(df['order_completed_at'])\n",
    "df_train = df[(df.order_completed_at < cuttoff_date)].reset_index(drop=True)\n",
    "df_test = df[(df.order_completed_at >= cuttoff_date)].reset_index(drop=True)"
   ]
  },
  {
   "cell_type": "code",
   "execution_count": 5,
   "id": "responsible-terrorist",
   "metadata": {},
   "outputs": [],
   "source": [
    "clients = pd.DataFrame(df_train['id'].unique())\n",
    "clients.columns = ['id']"
   ]
  },
  {
   "cell_type": "code",
   "execution_count": 6,
   "id": "biblical-issue",
   "metadata": {},
   "outputs": [],
   "source": [
    "# Расчёт максимальноц даты покупки\n",
    "tx_max_purchase = df_train.groupby('id').order_completed_at.max().reset_index()\n",
    "tx_max_purchase.columns = ['id','MaxPurchaseDate']\n",
    "tx_min_purchase = df_train.groupby('id').order_completed_at.min().reset_index()\n",
    "tx_min_purchase.columns = ['id','MinPurchaseDate']\n",
    "tx_min_purchase = pd.merge(tx_min_purchase,tx_max_purchase,on='id',how='left')\n",
    "tx_max_purchase['Recency'] = (tx_max_purchase['MaxPurchaseDate'].max() - tx_max_purchase['MaxPurchaseDate']).dt.days\n",
    "clients = pd.merge(clients, tx_max_purchase[['id','Recency']], on='id')"
   ]
  },
  {
   "cell_type": "code",
   "execution_count": 7,
   "id": "disturbed-advertiser",
   "metadata": {},
   "outputs": [],
   "source": [
    "# Расчёт мимимаальной даты покупки\n",
    "tx_min_purchase['NextPurchaseDay'] = (tx_min_purchase['MaxPurchaseDate'] - tx_min_purchase['MinPurchaseDate']).dt.days\n",
    "clients = pd.merge(clients, tx_min_purchase[['id','NextPurchaseDay']], on='id')"
   ]
  },
  {
   "cell_type": "code",
   "execution_count": 8,
   "id": "modern-eleven",
   "metadata": {},
   "outputs": [],
   "source": [
    "# Расчёт частоты\n",
    "tx_frequency = df_train.groupby('id').order_completed_at.count().reset_index()\n",
    "tx_frequency.columns = ['id','Frequency']\n",
    "clients = pd.merge(clients, tx_frequency, on='id')"
   ]
  },
  {
   "cell_type": "code",
   "execution_count": 9,
   "id": "accredited-monthly",
   "metadata": {},
   "outputs": [],
   "source": [
    "# Function order_cluster\n",
    "def order_cluster(cluster_field_name, target_field_name,df,ascending):\n",
    "    df_new = df.groupby(cluster_field_name)[target_field_name].mean().reset_index()\n",
    "    df_new = df_new.sort_values(by=target_field_name,ascending=ascending).reset_index(drop=True)\n",
    "    df_new['index'] = df_new.index\n",
    "    df_final = pd.merge(df,df_new[[cluster_field_name,'index']], on=cluster_field_name)\n",
    "    df_final = df_final.drop([cluster_field_name],axis=1)\n",
    "    df_final = df_final.rename(columns={\"index\":cluster_field_name})\n",
    "    return df_final"
   ]
  },
  {
   "cell_type": "code",
   "execution_count": 10,
   "id": "collective-ivory",
   "metadata": {},
   "outputs": [],
   "source": [
    "#clustering for Recency\n",
    "kmeans = KMeans(n_clusters=4)\n",
    "kmeans.fit(clients[['Recency']])\n",
    "clients['RecencyCluster'] = kmeans.predict(clients[['Recency']])\n",
    "clients = order_cluster('RecencyCluster', 'Recency', clients, False)"
   ]
  },
  {
   "cell_type": "code",
   "execution_count": 11,
   "id": "seven-breakfast",
   "metadata": {},
   "outputs": [],
   "source": [
    "#clustering for Frequency\n",
    "kmeans = KMeans(n_clusters=4)\n",
    "kmeans.fit(clients[['Frequency']])\n",
    "clients['FrequencyCluster'] = kmeans.predict(clients[['Frequency']])\n",
    "clients = order_cluster('FrequencyCluster', 'Frequency', clients, True)"
   ]
  },
  {
   "cell_type": "code",
   "execution_count": 12,
   "id": "disciplinary-nelson",
   "metadata": {},
   "outputs": [],
   "source": [
    "#building overall segmentation\n",
    "clients['OverallScore'] = clients['RecencyCluster'] + clients['FrequencyCluster']\n",
    "\n",
    "#assign segment names\n",
    "clients['Segment'] = 'Low-Value'\n",
    "clients.loc[clients['OverallScore']>2,'Segment'] = 'Mid-Value' \n",
    "clients.loc[clients['OverallScore']>4,'Segment'] = 'High-Value' "
   ]
  },
  {
   "cell_type": "code",
   "execution_count": 13,
   "id": "sticky-values",
   "metadata": {},
   "outputs": [],
   "source": [
    "tx_class = clients.copy()\n",
    "tx_class = tx_class.set_index('id')\n",
    "tx_class['NextPurchaseDayRange'] = 3  ## less than 6 months\n",
    "tx_class.loc[tx_class.NextPurchaseDay>180,'NextPurchaseDayRange'] = 2 ## more than 6 months\n",
    "tx_class.loc[tx_class.NextPurchaseDay>365,'NextPurchaseDayRange'] = 1 ## more than 12 months"
   ]
  },
  {
   "cell_type": "code",
   "execution_count": 14,
   "id": "powered-denial",
   "metadata": {},
   "outputs": [],
   "source": [
    "#train & test split\n",
    "tx_class = tx_class.drop('NextPurchaseDay',axis=1)\n",
    "tx_class = tx_class.drop('Segment',axis=1)\n",
    "X, y = tx_class.drop('NextPurchaseDayRange',axis=1), tx_class.NextPurchaseDayRange\n",
    "X_train, X_test, y_train, y_test = train_test_split(X, y, test_size=0.2, random_state=44)"
   ]
  },
  {
   "cell_type": "code",
   "execution_count": 15,
   "id": "changing-emphasis",
   "metadata": {},
   "outputs": [
    {
     "name": "stderr",
     "output_type": "stream",
     "text": [
      "/Library/Frameworks/Python.framework/Versions/3.7/lib/python3.7/site-packages/xgboost/sklearn.py:1146: UserWarning: The use of label encoder in XGBClassifier is deprecated and will be removed in a future release. To remove this warning, do the following: 1) Pass option use_label_encoder=False when constructing XGBClassifier object; and 2) Encode your labels (y) as integers starting with 0, i.e. 0, 1, 2, ..., [num_class - 1].\n",
      "  warnings.warn(label_encoder_deprecation_msg, UserWarning)\n"
     ]
    },
    {
     "name": "stdout",
     "output_type": "stream",
     "text": [
      "[12:45:44] WARNING: /Users/travis/build/dmlc/xgboost/src/learner.cc:1095: Starting in XGBoost 1.3.0, the default evaluation metric used with the objective 'multi:softprob' was changed from 'merror' to 'mlogloss'. Explicitly set eval_metric if you'd like to restore the old behavior.\n"
     ]
    }
   ],
   "source": [
    "xgb_model = xgb.XGBClassifier().fit(X_train, y_train)"
   ]
  },
  {
   "cell_type": "code",
   "execution_count": 24,
   "id": "aging-tamil",
   "metadata": {},
   "outputs": [],
   "source": [
    "y_pred = xgb_model.predict(X_test)"
   ]
  },
  {
   "cell_type": "code",
   "execution_count": 31,
   "id": "spare-warren",
   "metadata": {},
   "outputs": [
    {
     "name": "stdout",
     "output_type": "stream",
     "text": [
      "              precision    recall  f1-score   support\n",
      "\n",
      "           1       0.60      0.15      0.25      1406\n",
      "           2       0.49      0.06      0.10      3355\n",
      "           3       0.94      1.00      0.97     70736\n",
      "\n",
      "    accuracy                           0.94     75497\n",
      "   macro avg       0.68      0.40      0.44     75497\n",
      "weighted avg       0.92      0.94      0.92     75497\n",
      "\n"
     ]
    }
   ],
   "source": [
    "print(classification_report(y_test, y_pred))"
   ]
  },
  {
   "cell_type": "code",
   "execution_count": 32,
   "id": "large-butter",
   "metadata": {},
   "outputs": [
    {
     "name": "stdout",
     "output_type": "stream",
     "text": [
      "[3 3 3 ... 3 3 3]\n"
     ]
    }
   ],
   "source": []
  },
  {
   "cell_type": "code",
   "execution_count": null,
   "id": "loose-creature",
   "metadata": {},
   "outputs": [],
   "source": []
  }
 ],
 "metadata": {
  "kernelspec": {
   "display_name": "Python 3",
   "language": "python",
   "name": "python3"
  },
  "language_info": {
   "codemirror_mode": {
    "name": "ipython",
    "version": 3
   },
   "file_extension": ".py",
   "mimetype": "text/x-python",
   "name": "python",
   "nbconvert_exporter": "python",
   "pygments_lexer": "ipython3",
   "version": "3.7.4"
  }
 },
 "nbformat": 4,
 "nbformat_minor": 5
}
